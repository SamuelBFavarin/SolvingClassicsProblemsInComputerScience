{
  "nbformat": 4,
  "nbformat_minor": 0,
  "metadata": {
    "colab": {
      "name": "SolvingClassicsProblemsInComputerScience",
      "provenance": [],
      "authorship_tag": "ABX9TyN7CXYiZg9Ko6j/FubtF8cz",
      "include_colab_link": true
    },
    "kernelspec": {
      "name": "python3",
      "display_name": "Python 3"
    }
  },
  "cells": [
    {
      "cell_type": "markdown",
      "metadata": {
        "id": "view-in-github",
        "colab_type": "text"
      },
      "source": [
        "<a href=\"https://colab.research.google.com/github/SamuelBFavarin/SolvingClassicsProblemsInComputerScience/blob/master/SolvingClassicsProblemsInComputerScience.ipynb\" target=\"_parent\"><img src=\"https://colab.research.google.com/assets/colab-badge.svg\" alt=\"Open In Colab\"/></a>"
      ]
    },
    {
      "cell_type": "markdown",
      "metadata": {
        "id": "HiZcSjyGz2vQ",
        "colab_type": "text"
      },
      "source": [
        "## Solving Classics Computer Science Problems in Python\n",
        "\n",
        "This file, is a resume and a pratic exercicies from the book writed by David Kopec, called \"Classic Computer Science Problems in Python\""
      ]
    },
    {
      "cell_type": "markdown",
      "metadata": {
        "id": "x3yl83YH0px8",
        "colab_type": "text"
      },
      "source": [
        "### Chapter 1  - Small Problems\n",
        "\n"
      ]
    },
    {
      "cell_type": "markdown",
      "metadata": {
        "id": "rPiI11Ka81U9",
        "colab_type": "text"
      },
      "source": [
        "#### Fibonacci"
      ]
    },
    {
      "cell_type": "code",
      "metadata": {
        "id": "W4bPk9sRz16j",
        "colab_type": "code",
        "colab": {
          "base_uri": "https://localhost:8080/",
          "height": 34
        },
        "outputId": "361dcf18-9717-49cb-8c17-45c76040871e"
      },
      "source": [
        "# more slower way (recursive method)\n",
        "def fib1(n: int) -> int:\n",
        "  if n < 2:\n",
        "    return n\n",
        "  return fib1(n - 1) + fib1(n - 2)\n",
        "\n",
        "fib1(35)"
      ],
      "execution_count": null,
      "outputs": [
        {
          "output_type": "execute_result",
          "data": {
            "text/plain": [
              "9227465"
            ]
          },
          "metadata": {
            "tags": []
          },
          "execution_count": 69
        }
      ]
    },
    {
      "cell_type": "code",
      "metadata": {
        "id": "RO7X1ZBm8wXd",
        "colab_type": "code",
        "colab": {
          "base_uri": "https://localhost:8080/",
          "height": 34
        },
        "outputId": "73f232f5-d43d-4166-bc63-e764687350a2"
      },
      "source": [
        "# using manual memory method\n",
        "from typing import Dict\n",
        "memo: Dict[int, int] = {0: 0, 1: 1}\n",
        "\n",
        "def fib3(n: int) -> int:\n",
        "  if n not in memo:\n",
        "    memo[n] = fib3(n - 1) + fib3( n - 2)\n",
        "  return memo[n]\n",
        "\n",
        "fib3(35)"
      ],
      "execution_count": null,
      "outputs": [
        {
          "output_type": "execute_result",
          "data": {
            "text/plain": [
              "9227465"
            ]
          },
          "metadata": {
            "tags": []
          },
          "execution_count": 70
        }
      ]
    },
    {
      "cell_type": "code",
      "metadata": {
        "id": "YReUoCE_-CTO",
        "colab_type": "code",
        "colab": {
          "base_uri": "https://localhost:8080/",
          "height": 34
        },
        "outputId": "68f2fca3-4582-4288-c388-ea2c106ba0a3"
      },
      "source": [
        "# using autometic memory method\n",
        "\n",
        "from functools import lru_cache\n",
        "\n",
        "@lru_cache(maxsize = None)\n",
        "def fib4(n: int) -> int:\n",
        "  if n < 2:\n",
        "    return n\n",
        "  return fib4(n - 1) + fib4(n - 2)\n",
        "\n",
        "fib4(35)"
      ],
      "execution_count": null,
      "outputs": [
        {
          "output_type": "execute_result",
          "data": {
            "text/plain": [
              "9227465"
            ]
          },
          "metadata": {
            "tags": []
          },
          "execution_count": 71
        }
      ]
    },
    {
      "cell_type": "code",
      "metadata": {
        "id": "1qS8iSxd-uu5",
        "colab_type": "code",
        "colab": {
          "base_uri": "https://localhost:8080/",
          "height": 34
        },
        "outputId": "04758b67-696d-42fc-af94-1fb72059b13f"
      },
      "source": [
        "# simple fibonacci\n",
        "\n",
        "def fib5(n: int) -> int:\n",
        "  if n == 0: return next\n",
        "  last: int = 0\n",
        "  next: int = 1\n",
        "\n",
        "  for _ in range(1, n):\n",
        "    last, next = next, last + next\n",
        "\n",
        "  return next\n",
        "\n",
        "fib5(5)"
      ],
      "execution_count": null,
      "outputs": [
        {
          "output_type": "execute_result",
          "data": {
            "text/plain": [
              "5"
            ]
          },
          "metadata": {
            "tags": []
          },
          "execution_count": 66
        }
      ]
    },
    {
      "cell_type": "code",
      "metadata": {
        "id": "qOGZm2ZnqMDw",
        "colab_type": "code",
        "colab": {}
      },
      "source": [
        ""
      ],
      "execution_count": null,
      "outputs": []
    }
  ]
}